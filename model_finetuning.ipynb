{
 "cells": [
  {
   "cell_type": "code",
   "execution_count": 15,
   "id": "fd26a82f",
   "metadata": {},
   "outputs": [],
   "source": [
    "import webvtt\n",
    "\n",
    "#vtt similar to our data_collection file\n",
    "def vtt_to_text(vtt_file):\n",
    "    transcript = []\n",
    "    for caption in webvtt.read(vtt_file):\n",
    "        transcript.append((caption.start, caption.end, caption.text.strip()))\n",
    "    return transcript"
   ]
  },
  {
   "cell_type": "code",
   "execution_count": 16,
   "id": "1dab6cdd",
   "metadata": {},
   "outputs": [],
   "source": [
    "from datasets import Dataset, Audio, concatenate_datasets\n",
    "import torchaudio\n",
    "\n",
    "def create_dataset(audio_file, transcript_data, target_sample_rate=16000):\n",
    "    # Load the audio file\n",
    "    audio_data, sample_rate = torchaudio.load(audio_file)\n",
    "    \n",
    "    # Resampling if the sample rate is different from the target\n",
    "    if sample_rate != target_sample_rate:\n",
    "        resampler = torchaudio.transforms.Resample(orig_freq=sample_rate, new_freq=target_sample_rate)\n",
    "        audio_data = resampler(audio_data)\n",
    "\n",
    "    # Preparing the dataset\n",
    "    data = []\n",
    "    \n",
    "    for start, end, text in transcript_data:\n",
    "        # Converting time from HH:MM:SS to seconds\n",
    "        start_sec = sum(float(x) * 60 ** i for i, x in enumerate(reversed(start.split(\":\"))))\n",
    "        end_sec = sum(float(x) * 60 ** i for i, x in enumerate(reversed(end.split(\":\"))))\n",
    "        \n",
    "        # Calculating start and end frames based on the target sample rate\n",
    "        start_frame = int(start_sec * target_sample_rate)\n",
    "        end_frame = int(end_sec * target_sample_rate)\n",
    "        \n",
    "        # Cutting the audio chunk for the corresponding transcript\n",
    "        audio_chunk = audio_data[:, start_frame:end_frame]\n",
    "\n",
    "        # Ensuring the audio chunk is converted to a list or appropriate format\n",
    "        audio_chunk_list = audio_chunk.numpy().tolist()\n",
    "\n",
    "        data.append({\"audio\": audio_chunk_list, \"text\": text})\n",
    "\n",
    "    # Creating the dataset\n",
    "    dataset = Dataset.from_dict({\n",
    "        \"audio\": [d[\"audio\"] for d in data],\n",
    "        \"text\": [d[\"text\"] for d in data]\n",
    "    })\n",
    "    \n",
    "    return dataset\n"
   ]
  },
  {
   "cell_type": "code",
   "execution_count": null,
   "id": "3cc7a72e",
   "metadata": {},
   "outputs": [],
   "source": []
  },
  {
   "cell_type": "code",
   "execution_count": 17,
   "id": "6827e2ea",
   "metadata": {},
   "outputs": [],
   "source": [
    "import os, re\n",
    "\n",
    "# Finding the matching subtitle file for a given audio file\n",
    "def find_subtitle_file(audio_filename, subtitle_folder):\n",
    "    base_audio_name = os.path.splitext(audio_filename)[0]  \n",
    "    \n",
    "    # Searching for the subtitle file that contains the audio filename in their name\n",
    "    for subtitle_filename in os.listdir(subtitle_folder):\n",
    "        if base_audio_name in subtitle_filename:\n",
    "            return os.path.join(subtitle_folder, subtitle_filename)\n",
    "    \n",
    "    return None\n",
    "\n",
    "# Processing all audio and subtitle files in the folder\n",
    "def process_videos(audio_folder, subtitle_folder):\n",
    "    datasets = []\n",
    "    # Loop through all audio files in the folder\n",
    "    for audio_filename in os.listdir(audio_folder):\n",
    "        audio_file = os.path.join(audio_folder, audio_filename)\n",
    "\n",
    "        # Finding the matching subtitle file\n",
    "        subtitle_file = find_subtitle_file(audio_filename, subtitle_folder)\n",
    "\n",
    "        if subtitle_file:\n",
    "            print(f\"Processing {audio_filename} and {subtitle_file}\")\n",
    "            transcript_data = vtt_to_text(subtitle_file)\n",
    "            dataset = create_dataset(audio_file, transcript_data)\n",
    "            datasets.append(dataset)\n",
    "        else:\n",
    "            print(f\"No matching subtitle for {audio_filename}\")\n",
    "\n",
    "    # Combining all datasets into one\n",
    "    if datasets:\n",
    "        combined_dataset = concatenate_datasets(datasets)\n",
    "        return combined_dataset\n",
    "    else:\n",
    "        raise ValueError(\"No datasets were processed.\")\n"
   ]
  },
  {
   "cell_type": "code",
   "execution_count": 18,
   "id": "49c709bd",
   "metadata": {},
   "outputs": [
    {
     "name": "stdout",
     "output_type": "stream",
     "text": [
      "Processing Lecture10TheCompletenessoftheRealNumbersandBasicPropertiesofInfiniteSeries.webm and manual_sub/Lecture10TheCompletenessoftheRealNumbersandBasicPropertiesofInfiniteSeries_manual.en-j3PyPqV-e1s.vtt...\n",
      "Processing Lecture11AbsoluteConvergenceandtheComparisonTestforSeries.mp4 and manual_sub/Lecture11AbsoluteConvergenceandtheComparisonTestforSeries_manual.en-j3PyPqV-e1s.vtt...\n",
      "Processing Lecture12TheRatioRootandAlternatingSeriesTests.mp4 and manual_sub/Lecture12TheRatioRootandAlternatingSeriesTests_manual.en-j3PyPqV-e1s.vtt...\n",
      "Processing Lecture13LimitsofFunctions.mp4 and manual_sub/Lecture13LimitsofFunctions_manual.en-j3PyPqV-e1s.vtt...\n",
      "Processing Lecture14LimitsofFunctionsinTermsofSequencesandContinuity.mp4 and manual_sub/Lecture14LimitsofFunctionsinTermsofSequencesandContinuity_manual.en-j3PyPqV-e1s.vtt...\n",
      "Processing Lecture15TheContinuityofSineandCosineandtheManyDiscontinuitiesofDirichletsFunction.mp4 and manual_sub/Lecture15TheContinuityofSineandCosineandtheManyDiscontinuitiesofDirichletsFunction_manual.en-j3PyPqV-e1s.vtt...\n",
      "Processing Lecture16TheMinMaxTheoremandBolzanosIntermediateValueTheorem.mp4 and manual_sub/Lecture16TheMinMaxTheoremandBolzanosIntermediateValueTheorem_manual.en-j3PyPqV-e1s.vtt...\n",
      "Processing Lecture17UniformContinuityandtheDefinitionoftheDerivative.mp4 and manual_sub/Lecture17UniformContinuityandtheDefinitionoftheDerivative_manual.en-j3PyPqV-e1s.vtt...\n",
      "Processing Lecture18WeierstrasssExampleofaContinuousandNowhereDifferentiableFunction.mp4 and manual_sub/Lecture18WeierstrasssExampleofaContinuousandNowhereDifferentiableFunction_manual.en-j3PyPqV-e1s.vtt...\n",
      "Processing Lecture19DifferentiationRulesRollesTheoremandtheMeanValueTheorem.mp4 and manual_sub/Lecture19DifferentiationRulesRollesTheoremandtheMeanValueTheorem_manual.en-j3PyPqV-e1s.vtt...\n",
      "Processing Lecture1SetsSetOperationsandMathematicalInduction.webm and manual_sub/Lecture1SetsSetOperationsandMathematicalInduction_manual.en-j3PyPqV-e1s.vtt...\n",
      "Processing Lecture20TaylorsTheoremandtheDefinitionofRiemannSums.mp4 and manual_sub/Lecture20TaylorsTheoremandtheDefinitionofRiemannSums_manual.en-j3PyPqV-e1s.vtt...\n",
      "Processing Lecture21TheRiemannIntegralofaContinuousFunction.mp4 and manual_sub/Lecture21TheRiemannIntegralofaContinuousFunction_manual.en-j3PyPqV-e1s.vtt...\n",
      "Processing Lecture22FundamentalTheoremofCalculusIntegrationbyPartsandChangeofVariableFormula.mp4 and manual_sub/Lecture22FundamentalTheoremofCalculusIntegrationbyPartsandChangeofVariableFormula_manual.en-j3PyPqV-e1s.vtt...\n",
      "Processing Lecture23PointwiseandUniformConvergenceofSequencesofFunctions.mp4 and manual_sub/Lecture23PointwiseandUniformConvergenceofSequencesofFunctions_manual.en-j3PyPqV-e1s.vtt...\n",
      "Processing Lecture24UniformConvergencetheWeierstrassM-TestandInterchangingLimits.mp4 and manual_sub/Lecture24UniformConvergencetheWeierstrassM-TestandInterchangingLimits_manual.en-j3PyPqV-e1s.vtt...\n",
      "Processing Lecture25PowerSeriesandtheWeierstrassApproximationTheorem.mp4 and manual_sub/Lecture25PowerSeriesandtheWeierstrassApproximationTheorem_manual.en-j3PyPqV-e1s.vtt...\n",
      "Processing Lecture2CantorsTheoryofCardinalitySize.webm and manual_sub/Lecture2CantorsTheoryofCardinalitySize_manual.en-j3PyPqV-e1s.vtt...\n",
      "Processing Lecture3CantorsRemarkableTheoremandtheRationalsLackoftheLeastUpperBoundProperty.webm and manual_sub/Lecture3CantorsRemarkableTheoremandtheRationalsLackoftheLeastUpperBoundProperty_manual.en-j3PyPqV-e1s.vtt...\n",
      "Processing Lecture4TheCharacterizationoftheRealNumbers.webm and manual_sub/Lecture4TheCharacterizationoftheRealNumbers_manual.en-j3PyPqV-e1s.vtt...\n",
      "Processing Lecture5TheArchimedianPropertyDensityoftheRationalsandAbsoluteValue.webm and manual_sub/Lecture5TheArchimedianPropertyDensityoftheRationalsandAbsoluteValue_manual.en-j3PyPqV-e1s.vtt...\n",
      "Processing Lecture6TheUncountabalityoftheRealNumbers.webm and manual_sub/Lecture6TheUncountabalityoftheRealNumbers_manual.en-j3PyPqV-e1s.vtt...\n",
      "Processing Lecture7ConvergentSequencesofRealNumbers.webm and manual_sub/Lecture7ConvergentSequencesofRealNumbers_manual.en-j3PyPqV-e1s.vtt...\n",
      "Processing Lecture8TheSqueezeTheoremandOperationsInvolvingConvergentSequences.webm and manual_sub/Lecture8TheSqueezeTheoremandOperationsInvolvingConvergentSequences_manual.en-j3PyPqV-e1s.vtt...\n",
      "Processing Lecture9LimsupLiminfandtheBolzano-WeierstrassTheorem.webm and manual_sub/Lecture9LimsupLiminfandtheBolzano-WeierstrassTheorem_manual.en-j3PyPqV-e1s.vtt...\n"
     ]
    }
   ],
   "source": [
    "audio_path = 'audio_files/'\n",
    "subtitle_path = 'manual_sub/'\n",
    "combined_dataset = process_videos(audio_path, subtitle_path)"
   ]
  },
  {
   "cell_type": "code",
   "execution_count": null,
   "id": "fe8542e3",
   "metadata": {},
   "outputs": [],
   "source": []
  },
  {
   "cell_type": "code",
   "execution_count": 20,
   "id": "ba6a1aae",
   "metadata": {},
   "outputs": [
    {
     "data": {
      "application/vnd.jupyter.widget-view+json": {
       "model_id": "",
       "version_major": 2,
       "version_minor": 0
      },
      "text/plain": [
       "Map:   0%|          | 0/20688 [00:00<?, ? examples/s]"
      ]
     },
     "metadata": {},
     "output_type": "display_data"
    }
   ],
   "source": [
    "import torch\n",
    "from datasets import Dataset, Audio\n",
    "from transformers import WhisperTokenizer, WhisperProcessor, Trainer, TrainingArguments, WhisperFeatureExtractor\n",
    "\n",
    "feature_extractor = WhisperFeatureExtractor.from_pretrained('openai/whisper-base')\n",
    "processor = WhisperProcessor.from_pretrained('openai/whisper-base')\n",
    "tokenizer = WhisperTokenizer.from_pretrained('openai/whisper-base', language='en', task='transcribe')\n",
    "\n",
    "\n",
    "import numpy as np\n",
    "from datasets import Dataset\n",
    "\n",
    "def preprocess_function(dataset):\n",
    "    # Use the feature extractor to process audio inputs\n",
    "    audio = dataset['audio']\n",
    "    audio_inputs = feature_extractor(audio, sampling_rate=16000, return_tensors=\"pt\", padding=True)\n",
    "\n",
    "    # Use the tokenizer to process text inputs\n",
    "    text = dataset['text']\n",
    "    text_inputs = tokenizer(text, return_tensors=\"pt\", padding=True, truncation=True)\n",
    "\n",
    "    return {\n",
    "        \"input_features\": audio_inputs.input_features,\n",
    "        \"labels\": text_inputs.input_ids\n",
    "    }\n",
    "\n",
    "encoded_dataset = combined_dataset.map(preprocess_function, remove_columns=[\"audio\", \"text\"])"
   ]
  },
  {
   "cell_type": "code",
   "execution_count": 24,
   "id": "3ecb0128",
   "metadata": {},
   "outputs": [
    {
     "data": {
      "text/plain": [
       "[[50258,\n",
       "  50259,\n",
       "  50359,\n",
       "  50363,\n",
       "  6455,\n",
       "  321,\n",
       "  600,\n",
       "  1612,\n",
       "  2121,\n",
       "  3467,\n",
       "  295,\n",
       "  198,\n",
       "  11834,\n",
       "  2667,\n",
       "  11,\n",
       "  1108,\n",
       "  310,\n",
       "  546,\n",
       "  22978,\n",
       "  11,\n",
       "  50257]]"
      ]
     },
     "execution_count": 24,
     "metadata": {},
     "output_type": "execute_result"
    }
   ],
   "source": [
    "#Test\n",
    "encoded_dataset[5]['labels']"
   ]
  },
  {
   "cell_type": "code",
   "execution_count": null,
   "id": "4237ea4c",
   "metadata": {},
   "outputs": [],
   "source": []
  }
 ],
 "metadata": {
  "kernelspec": {
   "display_name": "Python 3 (ipykernel)",
   "language": "python",
   "name": "python3"
  },
  "language_info": {
   "codemirror_mode": {
    "name": "ipython",
    "version": 3
   },
   "file_extension": ".py",
   "mimetype": "text/x-python",
   "name": "python",
   "nbconvert_exporter": "python",
   "pygments_lexer": "ipython3",
   "version": "3.11.5"
  }
 },
 "nbformat": 4,
 "nbformat_minor": 5
}
