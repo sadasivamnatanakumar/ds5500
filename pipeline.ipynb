{
 "cells": [
  {
   "cell_type": "markdown",
   "id": "ae723b4c",
   "metadata": {},
   "source": [
    "Aim: Input video url, call the download video function, call the data scraping function to get the audio and subtitle files, then input the audio into the fine-tuned whisper model and then add the whisper generated subs to the video"
   ]
  },
  {
   "cell_type": "markdown",
   "id": "901ec42f",
   "metadata": {},
   "source": [
    "<b> We need to import the finetuned whisper model here and pass the audio into it, for now I'm using the subtitle file directly. <b>"
   ]
  },
  {
   "cell_type": "code",
   "execution_count": 1,
   "id": "65054f22",
   "metadata": {},
   "outputs": [],
   "source": [
    "import yt_dlp\n",
    "import os\n",
    "import re\n",
    "import subprocess"
   ]
  },
  {
   "cell_type": "code",
   "execution_count": 2,
   "id": "f315d303",
   "metadata": {},
   "outputs": [],
   "source": [
    "def clean_title(filename):\n",
    "    # Remove invalid characters for filenames\n",
    "    cleaned = re.sub(r'[\\\\/:\\*?\"<>|\\.]+', '', filename)\n",
    "    cleaned = re.sub(r'[^\\w\\-_\\.]', '', cleaned)\n",
    "    return cleaned.strip()"
   ]
  },
  {
   "cell_type": "code",
   "execution_count": 3,
   "id": "c6170ff3",
   "metadata": {},
   "outputs": [],
   "source": [
    "def download_video(url, output_folder='videos'):\n",
    "    # Create the output folder if it doesn't exist\n",
    "    if not os.path.exists(output_folder):\n",
    "        os.makedirs(output_folder)\n",
    "\n",
    "    ydl_opts = {\n",
    "        'outtmpl': os.path.join(output_folder, '%(title)s.%(ext)s'), \n",
    "    }\n",
    "\n",
    "    #Download video metadata to access the title and extension\n",
    "    with yt_dlp.YoutubeDL(ydl_opts) as ydl:\n",
    "        info = ydl.extract_info(url, download=False)\n",
    "        \n",
    "        #Clean the title and store the original extension\n",
    "        clean_filename = clean_title(info.get('title', 'video'))\n",
    "        original_extension = info.get('ext', 'mp4') \n",
    "\n",
    "        ydl_opts['outtmpl'] = os.path.join(output_folder, f'{clean_filename}.{original_extension}')\n",
    "\n",
    "        #Download the video with the cleaned title and original extension\n",
    "        ydl = yt_dlp.YoutubeDL(ydl_opts)\n",
    "        ydl.download([url])\n",
    "        \n",
    "        return f'{clean_filename}.{original_extension}'"
   ]
  },
  {
   "cell_type": "code",
   "execution_count": 4,
   "id": "091d7b72",
   "metadata": {},
   "outputs": [
    {
     "name": "stdout",
     "output_type": "stream",
     "text": [
      "[youtube] Extracting URL: https://www.youtube.com/watch?v=0_w-R_g5lRA&ab_channel=MITOpenCourseWare\n",
      "[youtube] 0_w-R_g5lRA: Downloading webpage\n",
      "[youtube] 0_w-R_g5lRA: Downloading ios player API JSON\n",
      "[youtube] 0_w-R_g5lRA: Downloading web creator player API JSON\n",
      "[youtube] 0_w-R_g5lRA: Downloading m3u8 information\n",
      "[youtube] Extracting URL: https://www.youtube.com/watch?v=0_w-R_g5lRA&ab_channel=MITOpenCourseWare\n",
      "[youtube] 0_w-R_g5lRA: Downloading webpage\n",
      "[youtube] 0_w-R_g5lRA: Downloading ios player API JSON\n",
      "[youtube] 0_w-R_g5lRA: Downloading web creator player API JSON\n",
      "[youtube] 0_w-R_g5lRA: Downloading m3u8 information\n",
      "[info] 0_w-R_g5lRA: Downloading 1 format(s): 137+251\n",
      "[download] Destination: videos/Lecture10TheCompletenessoftheRealNumbersandBasicPropertiesofInfiniteSeries.f137.mp4\n",
      "[download] 100% of  544.19MiB in 00:00:11 at 47.56MiB/s    \n",
      "[download] Destination: videos/Lecture10TheCompletenessoftheRealNumbersandBasicPropertiesofInfiniteSeries.f251.webm\n",
      "[download] 100% of   53.25MiB in 00:00:01 at 40.19MiB/s    \n",
      "[Merger] Merging formats into \"videos/Lecture10TheCompletenessoftheRealNumbersandBasicPropertiesofInfiniteSeries.mkv\"\n",
      "Deleting original file videos/Lecture10TheCompletenessoftheRealNumbersandBasicPropertiesofInfiniteSeries.f137.mp4 (pass -k to keep)\n",
      "Deleting original file videos/Lecture10TheCompletenessoftheRealNumbersandBasicPropertiesofInfiniteSeries.f251.webm (pass -k to keep)\n"
     ]
    }
   ],
   "source": [
    "#Downloading Lecture 10: The Completeness of the Real Numbers and Basic Properties of Infinite Series\n",
    "video_url = 'https://www.youtube.com/watch?v=0_w-R_g5lRA&ab_channel=MITOpenCourseWare'\n",
    "filename = download_video(video_url)"
   ]
  },
  {
   "cell_type": "code",
   "execution_count": 5,
   "id": "033eb90a",
   "metadata": {},
   "outputs": [],
   "source": [
    "def add_subtitle_to_video(filename, subtitle_folder='whisper_sub'):\n",
    "    # Construct the full path to the video file\n",
    "    video_file = os.path.join('videos', filename)\n",
    "    \n",
    "    base_filename = os.path.splitext(filename)[0]\n",
    "    \n",
    "    # Construct the expected subtitle (.vtt) file path\n",
    "    subtitle_file = os.path.join(subtitle_folder, f'{base_filename}.vtt')\n",
    "    \n",
    "\n",
    "    if not os.path.exists(subtitle_file):\n",
    "        print(f\"Subtitle file {subtitle_file} not found.\")\n",
    "        return\n",
    "    \n",
    "    output_file = os.path.splitext(video_file)[0] + '_with_subs.mp4'\n",
    "    \n",
    "    # FFmpeg command to add the subtitle\n",
    "    command = [\n",
    "        'ffmpeg',\n",
    "        '-i', video_file,  \n",
    "        '-i', subtitle_file,  \n",
    "        '-c:v', 'copy',  \n",
    "        '-c:a', 'copy',  \n",
    "        '-c:s', 'mov_text',  \n",
    "        '-map', '0', \n",
    "        '-map', '1', \n",
    "        output_file  \n",
    "    ]\n",
    "    \n",
    "    try:\n",
    "        subprocess.run(command, check=True)\n",
    "        print(f\"Subtitle added successfully: {output_file}\")\n",
    "    except subprocess.CalledProcessError as e:\n",
    "        print(f\"Error while adding subtitle: {e}\")\n"
   ]
  },
  {
   "cell_type": "code",
   "execution_count": 6,
   "id": "fcfa88e1",
   "metadata": {},
   "outputs": [
    {
     "name": "stderr",
     "output_type": "stream",
     "text": [
      "ffmpeg version N-117234-g8a951ef5e1-tessus  https://evermeet.cx/ffmpeg/  Copyright (c) 2000-2024 the FFmpeg developers\n",
      "  built with Apple clang version 16.0.0 (clang-1600.0.26.3)\n",
      "  configuration: --cc=/usr/bin/clang --prefix=/opt/ffmpeg --extra-version=tessus --enable-avisynth --enable-fontconfig --enable-gpl --enable-libaom --enable-libass --enable-libbluray --enable-libdav1d --enable-libfreetype --enable-libgsm --enable-libharfbuzz --enable-libmodplug --enable-libmp3lame --enable-libmysofa --enable-libopencore-amrnb --enable-libopencore-amrwb --enable-libopenh264 --enable-libopenjpeg --enable-libopus --enable-librubberband --enable-libshine --enable-libsnappy --enable-libsoxr --enable-libspeex --enable-libtheora --enable-libtwolame --enable-libvidstab --enable-libvmaf --enable-libvo-amrwbenc --enable-libvorbis --enable-libvpx --enable-libwebp --enable-libx264 --enable-libx265 --enable-libxavs --enable-libxml2 --enable-libxvid --enable-libzimg --enable-libzmq --enable-libzvbi --enable-version3 --pkg-config-flags=--static --disable-ffplay\n",
      "  libavutil      59. 40.100 / 59. 40.100\n",
      "  libavcodec     61. 20.100 / 61. 20.100\n",
      "  libavformat    61.  8.100 / 61.  8.100\n",
      "  libavdevice    61.  4.100 / 61.  4.100\n",
      "  libavfilter    10.  5.100 / 10.  5.100\n",
      "  libswscale      8.  4.100 /  8.  4.100\n",
      "  libswresample   5.  4.100 /  5.  4.100\n",
      "  libpostproc    58.  4.100 / 58.  4.100\n",
      "Input #0, matroska,webm, from 'videos/Lecture10TheCompletenessoftheRealNumbersandBasicPropertiesofInfiniteSeries.mkv':\n",
      "  Metadata:\n",
      "    COMPATIBLE_BRANDS: iso6avc1mp41\n",
      "    MAJOR_BRAND     : dash\n",
      "    MINOR_VERSION   : 0\n",
      "    ENCODER         : Lavf61.8.100\n",
      "  Duration: 01:15:36.31, start: 0.000000, bitrate: 1103 kb/s\n",
      "  Stream #0:0: Video: h264 (High), yuv420p(tv, bt709, progressive), 1920x1080 [SAR 1:1 DAR 16:9], 30 fps, 30 tbr, 1k tbn (default)\n",
      "    Metadata:\n",
      "      HANDLER_NAME    : ISO Media file produced by Google Inc.\n",
      "      VENDOR_ID       : [0][0][0][0]\n",
      "      DURATION        : 01:15:36.266000000\n",
      "  Stream #0:1(eng): Audio: opus, 48000 Hz, stereo, fltp (default)\n",
      "    Metadata:\n",
      "      DURATION        : 01:15:36.308000000\n",
      "Input #1, webvtt, from 'whisper_sub/Lecture10TheCompletenessoftheRealNumbersandBasicPropertiesofInfiniteSeries.vtt':\n",
      "  Duration: N/A, bitrate: N/A\n",
      "  Stream #1:0: Subtitle: webvtt\n",
      "Stream mapping:\n",
      "  Stream #0:0 -> #0:0 (copy)\n",
      "  Stream #0:1 -> #0:1 (copy)\n",
      "  Stream #1:0 -> #0:2 (webvtt (native) -> mov_text (native))\n",
      "Press [q] to stop, [?] for help\n",
      "[mp4 @ 0x7ff29d811700] track 1: codec frame size is not set\n",
      "Output #0, mp4, to 'videos/Lecture10TheCompletenessoftheRealNumbersandBasicPropertiesofInfiniteSeries_with_subs.mp4':\n",
      "  Metadata:\n",
      "    COMPATIBLE_BRANDS: iso6avc1mp41\n",
      "    MAJOR_BRAND     : dash\n",
      "    MINOR_VERSION   : 0\n",
      "    encoder         : Lavf61.8.100\n",
      "  Stream #0:0: Video: h264 (High) (avc1 / 0x31637661), yuv420p(tv, bt709, progressive), 1920x1080 [SAR 1:1 DAR 16:9], q=2-31, 30 fps, 30 tbr, 16k tbn (default)\n",
      "    Metadata:\n",
      "      HANDLER_NAME    : ISO Media file produced by Google Inc.\n",
      "      VENDOR_ID       : [0][0][0][0]\n",
      "      DURATION        : 01:15:36.266000000\n",
      "  Stream #0:1(eng): Audio: opus (Opus / 0x7375704F), 48000 Hz, stereo, fltp (default)\n",
      "    Metadata:\n",
      "      DURATION        : 01:15:36.308000000\n",
      "  Stream #0:2: Subtitle: mov_text (tx3g / 0x67337874)\n",
      "    Metadata:\n",
      "      encoder         : Lavc61.20.100 mov_text\n",
      "frame=101040 fps=66690 q=-1.0 size=  441344KiB time=00:56:07.96 bitrate=1073.5kbits/s speed=2.22e+03x    \r"
     ]
    },
    {
     "name": "stdout",
     "output_type": "stream",
     "text": [
      "Subtitle added successfully: videos/Lecture10TheCompletenessoftheRealNumbersandBasicPropertiesofInfiniteSeries_with_subs.mp4\n"
     ]
    },
    {
     "name": "stderr",
     "output_type": "stream",
     "text": [
      "frame=134714 fps=66687 q=-1.0 size=  601344KiB time=01:14:50.43 bitrate=1097.0kbits/s speed=2.22e+03x    \r",
      "[out#0/mp4 @ 0x7ff29d811640] video:555558KiB audio:52967KiB subtitle:39KiB other streams:0KiB global headers:0KiB muxing overhead: 0.805101%\n",
      "frame=136088 fps=65861 q=-1.0 Lsize=  613464KiB time=01:15:30.24 bitrate=1109.3kbits/s speed=2.19e+03x    \n"
     ]
    }
   ],
   "source": [
    "add_subtitle_to_video(filename)"
   ]
  },
  {
   "cell_type": "code",
   "execution_count": null,
   "id": "2d35c681",
   "metadata": {},
   "outputs": [],
   "source": []
  }
 ],
 "metadata": {
  "kernelspec": {
   "display_name": "Python 3 (ipykernel)",
   "language": "python",
   "name": "python3"
  },
  "language_info": {
   "codemirror_mode": {
    "name": "ipython",
    "version": 3
   },
   "file_extension": ".py",
   "mimetype": "text/x-python",
   "name": "python",
   "nbconvert_exporter": "python",
   "pygments_lexer": "ipython3",
   "version": "3.11.1"
  }
 },
 "nbformat": 4,
 "nbformat_minor": 5
}
